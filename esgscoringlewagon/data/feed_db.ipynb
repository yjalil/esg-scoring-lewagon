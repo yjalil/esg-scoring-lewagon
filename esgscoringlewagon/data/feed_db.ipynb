{
 "cells": [
  {
   "cell_type": "code",
   "execution_count": 1,
   "metadata": {},
   "outputs": [],
   "source": [
    "import pandas as pd\n",
    "import requests\n",
    "import numpy as np"
   ]
  },
  {
   "cell_type": "code",
   "execution_count": 2,
   "metadata": {},
   "outputs": [],
   "source": [
    "df = pd.read_csv('../../raw_data/predict_set.csv',usecols=['date','Company_name','text','full_text','storyId'],index_col='date',parse_dates=True).squeeze()"
   ]
  },
  {
   "cell_type": "code",
   "execution_count": 3,
   "metadata": {},
   "outputs": [],
   "source": [
    "df['full_text'] = df['full_text'].astype(str)\n",
    "df['text'] = df['text'].astype(str)\n",
    "df['storyId'] = df['storyId'].astype(str)\n",
    "df['Company_name'] = df['Company_name'].astype(str)\n"
   ]
  },
  {
   "cell_type": "code",
   "execution_count": 4,
   "metadata": {},
   "outputs": [
    {
     "data": {
      "text/plain": [
       "'\\n\\n\\n          ENR.GOFIM.554.1\\n        \\n\\n          Date: 22/12/2022\\n        \\n\\n          Notice N° AV-2022-148\\n        \\n\\n          (Only the french version prevails)\\n        \\n\\n\\n\\n\\n                Event\\n              \\n\\n\\n\\n                Change in coupon rate\\n              \\n\\n\\n\\n\\n\\n                Involved Instrument(s)\\n              \\n\\n\\n\\n                28DEC2017 2.22% 7A 100K ATW\\n              \\n\\n\\n\\n\\n\\n\\n\\n\\n\\n\\n          - NOTICE SUBJECT\\n        \\n\\n          Change in coupon rate of \"ATTIJARIWAFA BANK\" bonds of 28/12/2017\\n        \\n\\n          - Change in coupon rate\\n        \\n\\n\\n\\n\\n                Frequency change\\n              \\n\\n\\n\\n                Annual\\n              \\n\\n\\n\\n\\n\\n\\n\\n\\n\\n\\n\\n                Securitie Ticker\\n              \\n\\n\\n\\n                OATWQ\\n              \\n\\n\\n\\n\\n\\n\\n\\n\\n\\n\\n\\n                Tranche\\n              \\n\\n\\n\\n                B\\n              \\n\\n\\n\\n\\n\\n\\n\\n\\n\\n\\n\\n                Due date\\n              \\n\\n\\n\\n                28/12/2017\\n              \\n\\n\\n\\n\\n\\n\\n\\n\\n\\n\\n\\n                Old coupon rate (%)\\n              \\n\\n\\n\\n                2,22\\n              \\n\\n\\n\\n\\n\\n\\n\\n\\n\\n\\n\\n                New coupon rate (%)\\n              \\n\\n\\n\\n                3,59\\n              \\n\\n\\n\\n\\n\\n\\n\\n\\n\\n\\n          Casablanca stock exchange will use the new rate for calculating accrued interest from 23/12/2022\\n        \\n\\n\\n\\n          1\\n        \\n\\n\\n\\n\\nAttachments\\n\\n\\n\\nOriginal document\\n\\n\\n\\n\\n\\nDisclaimer\\n\\n\\nAttijariwafa Bank SA published this content on 22 December 2022 and is solely responsible for the information contained therein. Distributed by Public, unedited and unaltered, on 22 December 2022 09:33:56 UTC\\n(C) Copyright 2022 - Attijariwafa Bank SAKeywords: Attijariwafa-Bank-SA'"
      ]
     },
     "execution_count": 4,
     "metadata": {},
     "output_type": "execute_result"
    }
   ],
   "source": [
    "df.loc[df.index[0],'full_text'].values[0]"
   ]
  },
  {
   "cell_type": "code",
   "execution_count": null,
   "metadata": {},
   "outputs": [],
   "source": []
  },
  {
   "cell_type": "code",
   "execution_count": 5,
   "metadata": {},
   "outputs": [],
   "source": [
    "for i in range(len(df)) :\n",
    "    try:\n",
    "        process_date = np.datetime64('now')\n",
    "        company_response_get = requests.get(f\"http://127.0.0.1:8000/companies/{df.loc[df.index[i],'Company_name'].values[0]}\")\n",
    "        if company_response_get.status_code == 404:\n",
    "            company_response = requests.post(\"http://127.0.0.1:8000/company/add/\",json={'name':df.loc[df.index[i],'Company_name'].values[0],\n",
    "                                                                                    'description':'No description provided'})\n",
    "\n",
    "        model_response = requests.post(\"http://127.0.0.1:8000/article/predict/\",json={'body':df.loc[df.index[i],'full_text'].values[0]})\n",
    "        response = requests.post(f\"http://127.0.0.1:8000/article/add/{df.loc[df.index[i],'Company_name'].values[0]}\",json={\n",
    "            \"date\": df.index[i].strftime('%Y-%m-%d'),\n",
    "            \"title\": df.loc[df.index[i],'text'].values[0],\n",
    "            \"uploaded_at\": pd.to_datetime(str(process_date)).strftime('%Y-%m-%d'),\n",
    "            \"body\": df.loc[df.index[i],'full_text'].values[0],\n",
    "            \"sourceURL\": df.loc[df.index[i],'storyId'].values[0],\n",
    "            \"topic_category\": model_response.json()['topic_category'],\n",
    "            \"esg_score\": model_response.json()['esg_score'],\n",
    "            \"scored_at\": pd.to_datetime(str(process_date)).strftime('%Y-%m-%d'),\n",
    "            \"exclude_count\": 0\n",
    "        })\n",
    "    except : \n",
    "        pass"
   ]
  }
 ],
 "metadata": {
  "kernelspec": {
   "display_name": "esg-scoring-lewagon",
   "language": "python",
   "name": "python3"
  },
  "language_info": {
   "codemirror_mode": {
    "name": "ipython",
    "version": 3
   },
   "file_extension": ".py",
   "mimetype": "text/x-python",
   "name": "python",
   "nbconvert_exporter": "python",
   "pygments_lexer": "ipython3",
   "version": "3.8.12"
  },
  "orig_nbformat": 4,
  "vscode": {
   "interpreter": {
    "hash": "0da4683c4fad0afeec93b8b497065776641c10538c023e7f59ac79d1ec6963bb"
   }
  }
 },
 "nbformat": 4,
 "nbformat_minor": 2
}
