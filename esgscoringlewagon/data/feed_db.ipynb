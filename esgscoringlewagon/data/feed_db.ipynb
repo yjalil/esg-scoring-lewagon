{
 "cells": [
  {
   "cell_type": "code",
   "execution_count": 7,
   "metadata": {},
   "outputs": [],
   "source": [
    "import pandas as pd\n",
    "import requests\n",
    "import numpy as np"
   ]
  },
  {
   "cell_type": "code",
   "execution_count": 8,
   "metadata": {},
   "outputs": [],
   "source": [
    "df = pd.read_csv('../../raw_data/predict_set.csv',usecols=['date','company','title','sourceURL','body'],index_col='date',parse_dates=True).squeeze()"
   ]
  },
  {
   "cell_type": "code",
   "execution_count": 9,
   "metadata": {},
   "outputs": [
    {
     "data": {
      "text/html": [
       "<div>\n",
       "<style scoped>\n",
       "    .dataframe tbody tr th:only-of-type {\n",
       "        vertical-align: middle;\n",
       "    }\n",
       "\n",
       "    .dataframe tbody tr th {\n",
       "        vertical-align: top;\n",
       "    }\n",
       "\n",
       "    .dataframe thead th {\n",
       "        text-align: right;\n",
       "    }\n",
       "</style>\n",
       "<table border=\"1\" class=\"dataframe\">\n",
       "  <thead>\n",
       "    <tr style=\"text-align: right;\">\n",
       "      <th></th>\n",
       "      <th>sourceURL</th>\n",
       "      <th>company</th>\n",
       "      <th>title</th>\n",
       "      <th>body</th>\n",
       "    </tr>\n",
       "    <tr>\n",
       "      <th>date</th>\n",
       "      <th></th>\n",
       "      <th></th>\n",
       "      <th></th>\n",
       "      <th></th>\n",
       "    </tr>\n",
       "  </thead>\n",
       "  <tbody>\n",
       "    <tr>\n",
       "      <th>2022-07-08</th>\n",
       "      <td>https://www.mycentraljersey.com/story/news/202...</td>\n",
       "      <td>Amazon</td>\n",
       "      <td>amazon port authority newark nj airport freigh...</td>\n",
       "      <td>Newark Airport deal for $432M Amazon air hub c...</td>\n",
       "    </tr>\n",
       "    <tr>\n",
       "      <th>2022-07-08</th>\n",
       "      <td>https://medcitynews.com/2022/07/amgen-joins-ke...</td>\n",
       "      <td>Amgen</td>\n",
       "      <td>amgen joins kernal bios 25m financing as the s...</td>\n",
       "      <td>A messenger RNA-based therapy won’t be very ef...</td>\n",
       "    </tr>\n",
       "    <tr>\n",
       "      <th>2022-07-08</th>\n",
       "      <td>https://www.agassizharrisonobserver.com/busine...</td>\n",
       "      <td>Apple</td>\n",
       "      <td>apple to add lockdown safeguard on iphones ipa...</td>\n",
       "      <td>Apple said it will roll out a “lockdown” optio...</td>\n",
       "    </tr>\n",
       "    <tr>\n",
       "      <th>2022-07-08</th>\n",
       "      <td>https://techstory.in/laid-off-tesla-employees-...</td>\n",
       "      <td>Tesla</td>\n",
       "      <td>laid off tesla employees find wor</td>\n",
       "      <td>Tesla laid off hundreds of its workforce recen...</td>\n",
       "    </tr>\n",
       "    <tr>\n",
       "      <th>2022-07-08</th>\n",
       "      <td>https://www.wateronline.com/doc/pepsico-s-new-...</td>\n",
       "      <td>PepsiCo</td>\n",
       "      <td>pepsico s new esg summary offers first look at...</td>\n",
       "      <td>PepsiCo's New ESG Summary Offers First Look At...</td>\n",
       "    </tr>\n",
       "    <tr>\n",
       "      <th>...</th>\n",
       "      <td>...</td>\n",
       "      <td>...</td>\n",
       "      <td>...</td>\n",
       "      <td>...</td>\n",
       "    </tr>\n",
       "    <tr>\n",
       "      <th>2022-10-09</th>\n",
       "      <td>https://tulsaworld.com/news/local/michael-over...</td>\n",
       "      <td>Starbucks</td>\n",
       "      <td>michael overall why did starbucks take so long...</td>\n",
       "      <td>In the early 1990s, major renovations began on...</td>\n",
       "    </tr>\n",
       "    <tr>\n",
       "      <th>2022-10-09</th>\n",
       "      <td>https://www.theepochtimes.com/rivian-electric-...</td>\n",
       "      <td>Amazon</td>\n",
       "      <td>rivian electric vehicle maker backed by amazon...</td>\n",
       "      <td>An electric vehicle maker backed by Amazon is ...</td>\n",
       "    </tr>\n",
       "    <tr>\n",
       "      <th>2022-10-09</th>\n",
       "      <td>https://www.forbes.com/sites/billybambrough/20...</td>\n",
       "      <td>KLA</td>\n",
       "      <td>get your money out right now elon musk leads i...</td>\n",
       "      <td>PayPal\\nSubscribe now to Forbes' CryptoAsset &amp;...</td>\n",
       "    </tr>\n",
       "    <tr>\n",
       "      <th>2022-10-09</th>\n",
       "      <td>https://www.oklahoman.com/story/opinion/2022/1...</td>\n",
       "      <td>KLA</td>\n",
       "      <td>opinion stitt should be accountable for poor o...</td>\n",
       "      <td>Guest column: What CEO would set a public heal...</td>\n",
       "    </tr>\n",
       "    <tr>\n",
       "      <th>2022-10-09</th>\n",
       "      <td>https://news.yahoo.com/amazon-com-invest-over-...</td>\n",
       "      <td>Amazon</td>\n",
       "      <td>amazon com invest over 1 230610035.htm</td>\n",
       "      <td>Amazon.com to invest over 1 billion euros in E...</td>\n",
       "    </tr>\n",
       "  </tbody>\n",
       "</table>\n",
       "<p>1609 rows × 4 columns</p>\n",
       "</div>"
      ],
      "text/plain": [
       "                                                    sourceURL    company  \\\n",
       "date                                                                       \n",
       "2022-07-08  https://www.mycentraljersey.com/story/news/202...     Amazon   \n",
       "2022-07-08  https://medcitynews.com/2022/07/amgen-joins-ke...      Amgen   \n",
       "2022-07-08  https://www.agassizharrisonobserver.com/busine...      Apple   \n",
       "2022-07-08  https://techstory.in/laid-off-tesla-employees-...      Tesla   \n",
       "2022-07-08  https://www.wateronline.com/doc/pepsico-s-new-...    PepsiCo   \n",
       "...                                                       ...        ...   \n",
       "2022-10-09  https://tulsaworld.com/news/local/michael-over...  Starbucks   \n",
       "2022-10-09  https://www.theepochtimes.com/rivian-electric-...     Amazon   \n",
       "2022-10-09  https://www.forbes.com/sites/billybambrough/20...        KLA   \n",
       "2022-10-09  https://www.oklahoman.com/story/opinion/2022/1...        KLA   \n",
       "2022-10-09  https://news.yahoo.com/amazon-com-invest-over-...     Amazon   \n",
       "\n",
       "                                                        title  \\\n",
       "date                                                            \n",
       "2022-07-08  amazon port authority newark nj airport freigh...   \n",
       "2022-07-08  amgen joins kernal bios 25m financing as the s...   \n",
       "2022-07-08  apple to add lockdown safeguard on iphones ipa...   \n",
       "2022-07-08                  laid off tesla employees find wor   \n",
       "2022-07-08  pepsico s new esg summary offers first look at...   \n",
       "...                                                       ...   \n",
       "2022-10-09  michael overall why did starbucks take so long...   \n",
       "2022-10-09  rivian electric vehicle maker backed by amazon...   \n",
       "2022-10-09  get your money out right now elon musk leads i...   \n",
       "2022-10-09  opinion stitt should be accountable for poor o...   \n",
       "2022-10-09             amazon com invest over 1 230610035.htm   \n",
       "\n",
       "                                                         body  \n",
       "date                                                           \n",
       "2022-07-08  Newark Airport deal for $432M Amazon air hub c...  \n",
       "2022-07-08  A messenger RNA-based therapy won’t be very ef...  \n",
       "2022-07-08  Apple said it will roll out a “lockdown” optio...  \n",
       "2022-07-08  Tesla laid off hundreds of its workforce recen...  \n",
       "2022-07-08  PepsiCo's New ESG Summary Offers First Look At...  \n",
       "...                                                       ...  \n",
       "2022-10-09  In the early 1990s, major renovations began on...  \n",
       "2022-10-09  An electric vehicle maker backed by Amazon is ...  \n",
       "2022-10-09  PayPal\\nSubscribe now to Forbes' CryptoAsset &...  \n",
       "2022-10-09  Guest column: What CEO would set a public heal...  \n",
       "2022-10-09  Amazon.com to invest over 1 billion euros in E...  \n",
       "\n",
       "[1609 rows x 4 columns]"
      ]
     },
     "execution_count": 9,
     "metadata": {},
     "output_type": "execute_result"
    }
   ],
   "source": [
    "df"
   ]
  },
  {
   "cell_type": "code",
   "execution_count": 10,
   "metadata": {},
   "outputs": [
    {
     "data": {
      "text/plain": [
       "'Newark Airport deal for $432M Amazon air hub collapses\\nAmazon and the Port Authority of New York and New Jersey have walked away from a controversial $432 million air freight hub proposed for Newark Liberty International Airport.\\nWithout specifying what led to the breakdown, the Port Authority, which owns the airport, announced in an emailed statement Thursday that the two sides were parting ways after almost a year of talks.\\n“Unfortunately, the Port Authority and Amazon have been unable to reach an agreement on final lease terms and mutually concluded that further negotiations will not resolve the outstanding issues,” Port Authority Chief Operating Officer Huntley Lawrence said in the statement.\\nThe bistate agency and the e-commerce giant announced last August that they were negotiating a 20-year lease to repurpose two cargo buildings at Newark Airport. The project would create about 1,000 jobs and help speed shipping times for consumers across the region, they said.\\nBut some labor groups and environmental advocates have been sharply critical of the deal, citing what they call Amazon\\'s poor record on worker safety and warning of increased pollution for nearby neighborhoods. After the Port Authority\\'s June board meeting, board Chairman Kevin O’Toole told reporters that the agency was pushing for guarantees of “fair labor” practices at the hub, but did not elaborate further. It’s not clear what role these conditions played in the deal collapsing.\\nChristie Peace, a spokesperson for Gov. Phil Murphy\\'s office, likewise reiterated in April that any company doing business with the state \"should embrace our state\\'s strong history of partnering with labor organizations.\"\\nFlight cancellations:United to cancel 50 flights out of Newark. Here\\'s what you should do if you\\'re affected\\nLocal:State probe finds over a dozen North Jersey towns cut hefty sick leave checks despite ban\\nCritics of the deal, including some elected officials, welcomed the news.\\n“While our communities fought for basic health and safety, Amazon was unwilling to comply with basic labor and environmental standards,” Elizabeth resident David Lenis, a member of the advocacy group Make the Road NJ, said in a statement. The group organized the campaign against the Amazon hub.\\n“This fight has shown us that when we come together and fight against corporate greed and environmental destruction, our communities win,\" Lenis said.\\nAmazon facilities around the country have been the target of union drives in recent months, with the movement securing its first victory at a Staten Island warehouse in April. Opponents in New Jersey cited the company\\'s opposition to organizing and its allegedly poor track record on worker injuries.\\nWorkers for Amazon\\'s 53 New Jersey facilities suffered 1,605 workplace injuries in 2021, according to a report touted in April by Make the Road. That was nearly twice the injury rate of all other New Jersey warehouse workers last year, the report said.\\nCommunities in Newark already are hounded by poor air quality from the airport, factories and the New Jersey Turnpike, the critics added.\\nThe state has seen a surge of warehouses driven by the coronavirus-fueled e-commerce boom and New Jersey\\'s proximity to several major ports, with Amazon leading the pack. But that expansion may have reached its limits. With online shopping not growing as fast this year, Amazon has been looking to lease out or sell some of its warehouse capacity, Bloomberg News reported in May.\\nDozens of elected officials last month, including U.S Rep. Donald Payne Jr., D-Essex, sent a letter to the Port Authority urging the agency to halt any “secret negotiations” with the online retailer, after criticisms that last year’s deal was announced without public input.\\n\"Today, workers\\' rights and dignity won in a battle against corporate interests, and I am so thankful to the Port Authority of NY/NJ for siding with the workers,” another of the letter’s authors, state Sen. Joe Cryan, D-Union, said Thursday.\\nAmazon spokesperson Maria Boschetti said the online retail company was” disappointed” that the deal fell through.\\n“Despite this outcome, we value our relationship with the Port Authority, and we’re proud of our robust presence in New Jersey and look forward to continued investments in the state,” Boschetti added.\\nThe Port Authority selected Amazon\\'s proposal last year over those of two other firms that bid on the 23-acre site at Newark Airport.\\n\"The growth of air cargo and the redevelopment of airport facilities in a manner that benefits the region as well as the local community remain a top priority of the Port Authority,\" Lawrence said in Thursday\\'s statement. \"Moving forward, the agency will examine options and determine the best future utilization of these cargo facilities.”Board members of the agency didn\\'t respond to messages seeking more details on what torpedoed the deal.'"
      ]
     },
     "execution_count": 10,
     "metadata": {},
     "output_type": "execute_result"
    }
   ],
   "source": [
    "df.loc[df.index[0],'body'].values[0]"
   ]
  },
  {
   "cell_type": "code",
   "execution_count": null,
   "metadata": {},
   "outputs": [],
   "source": []
  },
  {
   "cell_type": "code",
   "execution_count": 11,
   "metadata": {},
   "outputs": [],
   "source": [
    "for i in range(len(df)) :\n",
    "    try:\n",
    "        process_date = np.datetime64('now')\n",
    "        company_response_get = requests.get(f\"http://127.0.0.1:8000/companies/{df.loc[df.index[i],'company'].values[0]}\")\n",
    "        if company_response_get.status_code == 404:\n",
    "            company_response = requests.post(\"http://127.0.0.1:8000/company/add/\",json={'name':df.loc[df.index[i],'company'].values[0],\n",
    "                                                                                    'description':'No description provided'})\n",
    "\n",
    "        model_response = requests.post(\"http://127.0.0.1:8000/article/predict/\",json={'body':df.loc[df.index[i],'body'].values[0]})\n",
    "        response = requests.post(f\"http://127.0.0.1:8000/article/add/{df.loc[df.index[i],'company'].values[0]}\",json={\n",
    "            \"date\": df.index[i].strftime('%Y-%m-%d'),\n",
    "            \"title\": df.loc[df.index[i],'title'].values[0],\n",
    "            \"uploaded_at\": pd.to_datetime(str(process_date)).strftime('%Y-%m-%d'),\n",
    "            \"body\": df.loc[df.index[i],'body'].values[0],\n",
    "            \"sourceURL\": df.loc[df.index[i],'sourceURL'].values[0],\n",
    "            \"topic_category\": model_response.json()['topic_category'],\n",
    "            \"esg_score\": model_response.json()['esg_score'],\n",
    "            \"scored_at\": pd.to_datetime(str(process_date)).strftime('%Y-%m-%d'),\n",
    "            \"exclude_count\": 0\n",
    "        })\n",
    "    except : \n",
    "        pass"
   ]
  }
 ],
 "metadata": {
  "kernelspec": {
   "display_name": "esg-scoring-lewagon",
   "language": "python",
   "name": "python3"
  },
  "language_info": {
   "codemirror_mode": {
    "name": "ipython",
    "version": 3
   },
   "file_extension": ".py",
   "mimetype": "text/x-python",
   "name": "python",
   "nbconvert_exporter": "python",
   "pygments_lexer": "ipython3",
   "version": "3.8.12"
  },
  "orig_nbformat": 4,
  "vscode": {
   "interpreter": {
    "hash": "0da4683c4fad0afeec93b8b497065776641c10538c023e7f59ac79d1ec6963bb"
   }
  }
 },
 "nbformat": 4,
 "nbformat_minor": 2
}
