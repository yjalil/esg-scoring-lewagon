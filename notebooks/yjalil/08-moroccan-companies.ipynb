{
 "cells": [
  {
   "cell_type": "code",
   "execution_count": 1,
   "metadata": {},
   "outputs": [],
   "source": [
    "import pandas as pd"
   ]
  },
  {
   "cell_type": "code",
   "execution_count": 2,
   "metadata": {},
   "outputs": [],
   "source": [
    "df = pd.read_pickle('Data/moroccan_public_companies_news_text.pickle')"
   ]
  },
  {
   "cell_type": "code",
   "execution_count": 6,
   "metadata": {},
   "outputs": [
    {
     "data": {
      "text/html": [
       "<div>\n",
       "<style scoped>\n",
       "    .dataframe tbody tr th:only-of-type {\n",
       "        vertical-align: middle;\n",
       "    }\n",
       "\n",
       "    .dataframe tbody tr th {\n",
       "        vertical-align: top;\n",
       "    }\n",
       "\n",
       "    .dataframe thead th {\n",
       "        text-align: right;\n",
       "    }\n",
       "</style>\n",
       "<table border=\"1\" class=\"dataframe\">\n",
       "  <thead>\n",
       "    <tr style=\"text-align: right;\">\n",
       "      <th></th>\n",
       "      <th>versionCreated</th>\n",
       "      <th>text</th>\n",
       "      <th>storyId</th>\n",
       "      <th>sourceCode</th>\n",
       "      <th>instrument</th>\n",
       "      <th>full_text</th>\n",
       "    </tr>\n",
       "  </thead>\n",
       "  <tbody>\n",
       "    <tr>\n",
       "      <th>2022-11-22 09:48:28</th>\n",
       "      <td>2022-11-22 09:48:28+00:00</td>\n",
       "      <td>Moroccan clinic operator Akdital to launch IPO...</td>\n",
       "      <td>urn:newsml:newswire.refinitiv.com:20221122:nL8...</td>\n",
       "      <td>NS:RTRS</td>\n",
       "      <td>ARD.CS</td>\n",
       "      <td>RABAT, Nov 22 (Reuters) - Private hospital ope...</td>\n",
       "    </tr>\n",
       "    <tr>\n",
       "      <th>2022-12-14 23:04:56</th>\n",
       "      <td>2022-12-14 23:04:56+00:00</td>\n",
       "      <td>Akdital SA - AKT : results of the Initial publ...</td>\n",
       "      <td>urn:newsml:newswire.refinitiv.com:20221214:nND...</td>\n",
       "      <td>NS:PUBT</td>\n",
       "      <td>AKT.CS</td>\n",
       "      <td>\\n\\n\\n\\n            ENR.GOFIM.380.1\\n         ...</td>\n",
       "    </tr>\n",
       "  </tbody>\n",
       "</table>\n",
       "</div>"
      ],
      "text/plain": [
       "                               versionCreated  \\\n",
       "2022-11-22 09:48:28 2022-11-22 09:48:28+00:00   \n",
       "2022-12-14 23:04:56 2022-12-14 23:04:56+00:00   \n",
       "\n",
       "                                                                  text  \\\n",
       "2022-11-22 09:48:28  Moroccan clinic operator Akdital to launch IPO...   \n",
       "2022-12-14 23:04:56  Akdital SA - AKT : results of the Initial publ...   \n",
       "\n",
       "                                                               storyId  \\\n",
       "2022-11-22 09:48:28  urn:newsml:newswire.refinitiv.com:20221122:nL8...   \n",
       "2022-12-14 23:04:56  urn:newsml:newswire.refinitiv.com:20221214:nND...   \n",
       "\n",
       "                    sourceCode instrument  \\\n",
       "2022-11-22 09:48:28    NS:RTRS     ARD.CS   \n",
       "2022-12-14 23:04:56    NS:PUBT     AKT.CS   \n",
       "\n",
       "                                                             full_text  \n",
       "2022-11-22 09:48:28  RABAT, Nov 22 (Reuters) - Private hospital ope...  \n",
       "2022-12-14 23:04:56  \\n\\n\\n\\n            ENR.GOFIM.380.1\\n         ...  "
      ]
     },
     "execution_count": 6,
     "metadata": {},
     "output_type": "execute_result"
    }
   ],
   "source": [
    "df[df['text'].str.contains('Akdital')]"
   ]
  },
  {
   "cell_type": "code",
   "execution_count": null,
   "metadata": {},
   "outputs": [],
   "source": []
  }
 ],
 "metadata": {
  "kernelspec": {
   "display_name": "Python 3",
   "language": "python",
   "name": "python3"
  },
  "language_info": {
   "codemirror_mode": {
    "name": "ipython",
    "version": 3
   },
   "file_extension": ".py",
   "mimetype": "text/x-python",
   "name": "python",
   "nbconvert_exporter": "python",
   "pygments_lexer": "ipython3",
   "version": "3.10.2"
  },
  "orig_nbformat": 4,
  "vscode": {
   "interpreter": {
    "hash": "81d536456136b28090129ce82e5cf6b99608f7de5a5978a52bb6558aff09a7d4"
   }
  }
 },
 "nbformat": 4,
 "nbformat_minor": 2
}
