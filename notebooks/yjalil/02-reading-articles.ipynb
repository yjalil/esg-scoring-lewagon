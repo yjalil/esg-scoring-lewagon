{
 "cells": [
  {
   "attachments": {},
   "cell_type": "markdown",
   "metadata": {},
   "source": [
    "# Reading articles from URLs\n",
    "In this Notebook we will read one of the previous 78 artciles from its URL and convert its content to a format that can be preprocessed and tokenized later."
   ]
  },
  {
   "cell_type": "code",
   "execution_count": 46,
   "metadata": {},
   "outputs": [],
   "source": [
    "import pandas as pd\n",
    "import requests\n",
    "from bs4 import BeautifulSoup\n",
    "import csv\n"
   ]
  },
  {
   "cell_type": "code",
   "execution_count": 7,
   "metadata": {},
   "outputs": [
    {
     "data": {
      "text/html": [
       "<div>\n",
       "<style scoped>\n",
       "    .dataframe tbody tr th:only-of-type {\n",
       "        vertical-align: middle;\n",
       "    }\n",
       "\n",
       "    .dataframe tbody tr th {\n",
       "        vertical-align: top;\n",
       "    }\n",
       "\n",
       "    .dataframe thead th {\n",
       "        text-align: right;\n",
       "    }\n",
       "</style>\n",
       "<table border=\"1\" class=\"dataframe\">\n",
       "  <thead>\n",
       "    <tr style=\"text-align: right;\">\n",
       "      <th></th>\n",
       "      <th>SOURCEURL</th>\n",
       "    </tr>\n",
       "  </thead>\n",
       "  <tbody>\n",
       "    <tr>\n",
       "      <th>0</th>\n",
       "      <td>https://www.forbes.com/sites/ewanspence/2022/1...</td>\n",
       "    </tr>\n",
       "    <tr>\n",
       "      <th>1</th>\n",
       "      <td>https://www.nytimes.com/2022/10/14/business/ec...</td>\n",
       "    </tr>\n",
       "    <tr>\n",
       "      <th>2</th>\n",
       "      <td>https://www.nytimes.com/2022/10/14/business/ec...</td>\n",
       "    </tr>\n",
       "    <tr>\n",
       "      <th>3</th>\n",
       "      <td>https://www.nytimes.com/2022/10/14/business/ec...</td>\n",
       "    </tr>\n",
       "    <tr>\n",
       "      <th>4</th>\n",
       "      <td>https://www.nytimes.com/2022/10/14/business/ec...</td>\n",
       "    </tr>\n",
       "    <tr>\n",
       "      <th>...</th>\n",
       "      <td>...</td>\n",
       "    </tr>\n",
       "    <tr>\n",
       "      <th>73</th>\n",
       "      <td>https://www.wfmynews2.com/article/life/heartwa...</td>\n",
       "    </tr>\n",
       "    <tr>\n",
       "      <th>74</th>\n",
       "      <td>https://cointelegraph.com/news/nodes-are-going...</td>\n",
       "    </tr>\n",
       "    <tr>\n",
       "      <th>75</th>\n",
       "      <td>https://cointelegraph.com/news/nodes-are-going...</td>\n",
       "    </tr>\n",
       "    <tr>\n",
       "      <th>76</th>\n",
       "      <td>https://www.herald-dispatch.com/news/south-poi...</td>\n",
       "    </tr>\n",
       "    <tr>\n",
       "      <th>77</th>\n",
       "      <td>https://www.herald-dispatch.com/news/south-poi...</td>\n",
       "    </tr>\n",
       "  </tbody>\n",
       "</table>\n",
       "<p>78 rows × 1 columns</p>\n",
       "</div>"
      ],
      "text/plain": [
       "                                            SOURCEURL\n",
       "0   https://www.forbes.com/sites/ewanspence/2022/1...\n",
       "1   https://www.nytimes.com/2022/10/14/business/ec...\n",
       "2   https://www.nytimes.com/2022/10/14/business/ec...\n",
       "3   https://www.nytimes.com/2022/10/14/business/ec...\n",
       "4   https://www.nytimes.com/2022/10/14/business/ec...\n",
       "..                                                ...\n",
       "73  https://www.wfmynews2.com/article/life/heartwa...\n",
       "74  https://cointelegraph.com/news/nodes-are-going...\n",
       "75  https://cointelegraph.com/news/nodes-are-going...\n",
       "76  https://www.herald-dispatch.com/news/south-poi...\n",
       "77  https://www.herald-dispatch.com/news/south-poi...\n",
       "\n",
       "[78 rows x 1 columns]"
      ]
     },
     "execution_count": 7,
     "metadata": {},
     "output_type": "execute_result"
    }
   ],
   "source": [
    "urls = pd.read_csv('Data/apple_news_20221015.csv',header=0)\n",
    "urls.drop(columns='Unnamed: 0',inplace=True)\n",
    "urls"
   ]
  },
  {
   "cell_type": "code",
   "execution_count": 10,
   "metadata": {},
   "outputs": [
    {
     "data": {
      "text/plain": [
       "'https://www.forbes.com/sites/ewanspence/2022/10/14/apple-headlines-iphone-15-5g-iphone-14-apple-watch-macbook-pro-airpods-pro/'"
      ]
     },
     "execution_count": 10,
     "metadata": {},
     "output_type": "execute_result"
    }
   ],
   "source": [
    "example_url = urls.iloc[0,0]\n",
    "example_url"
   ]
  },
  {
   "cell_type": "code",
   "execution_count": 17,
   "metadata": {},
   "outputs": [],
   "source": [
    "response = requests.get(example_url)\n",
    "html_page = response.content\n",
    "soup = BeautifulSoup(html_page, 'html.parser')\n",
    "text = soup.find_all(text=True)"
   ]
  },
  {
   "cell_type": "code",
   "execution_count": 32,
   "metadata": {},
   "outputs": [
    {
     "data": {
      "text/plain": [
       "'Apple Loop: iPhone 15 Missing TouchID, AirPods Pro 2 Audio Issues, Apple Watch Ignores Pixel Watch'"
      ]
     },
     "execution_count": 32,
     "metadata": {},
     "output_type": "execute_result"
    }
   ],
   "source": []
  },
  {
   "cell_type": "code",
   "execution_count": 35,
   "metadata": {},
   "outputs": [
    {
     "data": {
      "text/plain": [
       "{'[document]',\n",
       " 'a',\n",
       " 'button',\n",
       " 'div',\n",
       " 'h1',\n",
       " 'h3',\n",
       " 'p',\n",
       " 'script',\n",
       " 'small',\n",
       " 'span',\n",
       " 'strong',\n",
       " 'style',\n",
       " 'time',\n",
       " 'title'}"
      ]
     },
     "execution_count": 35,
     "metadata": {},
     "output_type": "execute_result"
    }
   ],
   "source": [
    "set([t.parent.name for t in text])"
   ]
  },
  {
   "cell_type": "code",
   "execution_count": 36,
   "metadata": {},
   "outputs": [],
   "source": [
    "# useless tags list\n",
    "blacklist = [\n",
    "    '[document]',\n",
    "    'noscript',\n",
    "    'header',\n",
    "    'html',\n",
    "    'meta',\n",
    "    'head', \n",
    "    'input',\n",
    "    'script',\n",
    "    'style'\n",
    "]\n"
   ]
  },
  {
   "cell_type": "code",
   "execution_count": 39,
   "metadata": {},
   "outputs": [
    {
     "name": "stdout",
     "output_type": "stream",
     "text": [
      "Apple Loop: iPhone 15 Missing TouchID, AirPods Pro 2 Audio Issues, Apple Watch Ignores Pixel WatchSubscribe Sign InBETAThis is a BETA experience. You may opt-out by clicking hereMore From ForbesJan 9, 2023,07:00am ESTAudio-Technica’s New Flagship True Wireless Earbuds Are Simply SuperbJan 8, 2023,06:02pm ESTApple iPhone Surprise Cancelation Verified By New ReportJan 8, 2023,02:47pm ESTShock Feature Lands For Fitbit Sense 2 And Versa 4 OwnersJan 8, 2023,01:28pm ESTForget The New MacBook Pro, Apple Has Something BetterJan 7, 2023,02:36pm ESTThe 9 Best Fitness Trackers And Smartwatches You Can Buy Right NowJan 7, 2023,06:37am ESTNew Apple Leak Reveals iPhone 15 Price ShockJan 7, 2023,06:36am ESTNew Apple Exclusive Reveals iPhone 15 Release SurpriseJan 6, 2023,07:12pm ESTApple Loop: Stunning iPhone 15 Specs, Dark Sky Goes Dark, Apple’s Expensive iPhone RepairEdit StoryForbesInnovationConsumer TechApple Loop: iPhone 15 Missing TouchID, AirPods Pro 2 Audio Issues, Apple Watch Ignores Pixel WatchEwan SpenceSenior ContributorOpinions expressed by Forbes Contributors are their own.Storyteller exploring digital worlds, mobile, music and podcastingFollowingNew!\n",
      "Follow this author to stay notified about their latest stories. \n",
      "Got it!New!\n",
      "Click on the conversation bubble to join the conversation \n",
      "Got it!Oct 14, 2022,07:40pm EDT|Press play to listen to this article!\n",
      "Got it!Share to FacebookShare to TwitterShare to LinkedinTaking a look back at another week of news and headlines from Cupertino, this week’s Apple Loop includes the latest iPhone 15 disappointment, more bad news for the iPhone 14, Apple Watch vs Pixel Watch, the missing MacBook Pro launch, iPhone charger fines, AirPods Pro 2 problems, and the App Store’s unwanted impact on our culture.\n",
      "\n",
      "Apple Loop is here to remind you of a few of the very many discussions that have happened around Apple over the last seven days (and you can read my weekly digest of Android news here on Forbes).\n",
      "\n",
      "\n",
      "Disappointing iPhone 15 Leak\n",
      "\n",
      "For many, the iPhone 15 represents a chance to push forward the envelope of the iPhone, but so far, it doesn’t seem to be going well. Following the dropping of TouchID leaked last week, the introduction of an iPhone with Apple’s own 5G modem has reportedly been delayed:\n",
      "\n",
      "“...the news is something of a blow for iPhone fans. Apple has long shown the benefits of its tightly integrated chips, and in-house Apple modems would be expected to deliver significant performance and power efficiency gains compared to Qualcomm’s off-the-shelf X-range, which is also used by most Android rivals.\"\n",
      "\n",
      "(Forbes)TOPSHOT - The new iPhone 14 and 14 Plus is displayed during a launch event for new products at Apple ... [+] Park in Cupertino, California, on September 7, 2022. - Apple unveiled several new products including a new iPhone 14 and 14 Pro, three Apple watches, and new AirPod Pros during the event. (Photo by Brittany Hosea-Small / AFP) (Photo by BRITTANY HOSEA-SMALL/AFP via Getty Images)AFP via Getty Images\n",
      "MORE FROMFORBES ADVISORBest Travel Insurance CompaniesByAmy DaniseEditorBest Covid-19 Travel Insurance PlansByAmy DaniseEditor\n",
      "Low iPhone 14 Sales Numbers\n",
      "Is the iPhone 14 meeting expectations? As it stands, sales are down on the iconic smartphone. The numbers should be balanced out by the iPhone 14 Pro sales, but Apple’s strategy of holding back the base iPhone specifications to make the bigger phones look better may have an unintended consequence:\n",
      "\n",
      "\"DigiTimes claims that sales of the ‌iPhone 14‌ and ‌iPhone 14‌ Plus are considerably overshadowed by an \"enthusiastic\" response to the iPhone 14 Pro and ‌iPhone 14 Pro‌ Max. Sources speaking to DigiTimes say that despite differences in sales performance between the Pro and non-Pro iPhone models this year, total ‌iPhone 14‌ model shipments will likely be around the same as those for the iPhone 13 lineup in the second half of 2021.\"\n",
      "\n",
      "\n",
      "(MacRumors).\n",
      "Some Watch On Watch Action\n",
      "With an Apple Watch on one wrist and a Pixel Watch on the other, is it fair to compare the two smartwatches? It’s an obvious comparison, but if you can’t mix and match your phones and watches, can you actually compare them?\n",
      "“...it's also quite harsh to put Google's device in direct competition with Apple's hardware. Since the Apple Watch is aimed at iPhone owners and the Pixel Watch is more for Google Pixel owners and those using Android smartphones, there is a form of built-in divide for the audience's attention… the Google Pixel Watch is an excellent smartwatch on paper, and certainly a rival to the Apple Watch. It's just that each caters to its own ecosystem and probably won't encroach on the other's turf that much in the future.\"\n",
      "(Apple Insider).\n",
      "Why Skip The MacBook Pro Launch\n",
      "Apple could have held a triumphant launch event, celebrating the moment of completing the Mac transition to Apple Silicon and reinforcing the message with two high-end, high-performance MacBook Pro laptops. So why will the new MacBook Pros be launched by press release instead?\n",
      "\"It feels like Apple has already said [the move to Apple Silicon is complete]... at WWDC when it announced the second-generation Apple Silicon M2 chipsets. While the M2 Pro and M2 Ultra for the MacBook Pro are expected with the new MacBook launch, when the team has stood up and had the M2 party in the summer, there’s no need to run it again. The job is done, everyone knows the new paradigm, and it’s time to move on to the next thing.\"\n",
      "(Forbes),\n",
      "Brazilian Fine For Missing iPhone Chargers\n",
      "Last week saw the European Parliament confirm the introduction of a mandate for USB-C chargers in the European Union. This week Brazilian authorities, who have been dealing with manufacturers removing chargers from retail packaging, have fined Apple $19 million for doing just that:\n",
      "\"The Sao Paulo state court ruled against Apple in a lawsuit, filed by the association of borrowers, consumers and taxpayers, that argued that the company commits abusive practices by selling its flagship product without a charger. \"Apple said it will appeal the decision.\n",
      "(Reuters).\n",
      "New AirPods Face Audio Problems\n",
      "Apple’s latest audio accessory, the AirPods Pro 2, are suffering from a small number of issues around audio drifting spatially between the ears or moving out of sync with each other. Apple has, as yet, not commented on the issue:\n",
      "\"Audio drifting is an issue with headphones where the sound shifts between each side of the two earbuds. The audio will move back and forth between earbuds and can also get out of sync with videos. In this scenario, the audio wouldn’t lineup with the mouth of whoever is speaking in that video. For AirPods Pro 2 specifically, affected users say they are experiencing a combination of audio drifting and shifting, as well as volume levels randomly increasing or decreasing.\"\n",
      "(9to5Mac).\n",
      "And Finally...\n",
      "There’s an interesting discussion with Automattic’s co-founder Matt Mullenweg talking about the difficulty of running Tumblr in the current environment and how the two US-based App Stores - Google Play and Apple App Store - act as unofficial arbiters of what is acceptable for a mass audience:\n",
      "\"There are two stories here, really. One is the broader one of gatekeepers. Apple’s anti-porn stance isn’t about child-abuse imagery: you simply cannot publish porn to the App Store at all. But the App Store isn’t just a store, it’s also the only way of installing software on the most popular smartphone in the world, and the company’s decisions about what businesses it wants to support have a way of warping the entire culture.\"\n",
      "(The Guardian).\n",
      "Apple Loop brings you seven days worth of highlights every weekend here on Forbes. Don’t forget to follow me so you don’t miss any coverage in the future. Last week’s Apple Loop can be read here, or this week’s edition of Loop’s sister column, Android Circuit, is also available on Forbes.\n",
      "Check out my website. Ewan SpenceEditorial StandardsPrintReprints & Permissionsplaceholder for alignment\n"
     ]
    }
   ],
   "source": [
    "output = []\n",
    "for t in text:\n",
    "    if t.parent.name not in blacklist:\n",
    "        output += t\n",
    "output = ''.join(output)\n",
    "print(output)"
   ]
  },
  {
   "attachments": {},
   "cell_type": "markdown",
   "metadata": {},
   "source": [
    "Let's parse the article into a list of sentences, we'll store it in a csv file for the next Notebook."
   ]
  },
  {
   "cell_type": "code",
   "execution_count": 52,
   "metadata": {},
   "outputs": [],
   "source": [
    "apple_article1_sentence_list = output.split('.')"
   ]
  },
  {
   "cell_type": "code",
   "execution_count": 53,
   "metadata": {},
   "outputs": [
    {
     "data": {
      "text/plain": [
       "0    Apple Loop: iPhone 15 Missing TouchID, AirPods...\n",
       "1     You may opt-out by clicking hereMore From For...\n",
       "2    Storyteller exploring digital worlds, mobile, ...\n",
       "3     \\nGot it!New!\\nClick on the conversation bubb...\n",
       "4    \\n\\nApple Loop is here to remind you of a few ...\n",
       "dtype: object"
      ]
     },
     "execution_count": 53,
     "metadata": {},
     "output_type": "execute_result"
    }
   ],
   "source": [
    "sr = pd.Series(apple_article1_sentence_list)\n",
    "\n",
    "sr.head(5)"
   ]
  },
  {
   "cell_type": "code",
   "execution_count": 54,
   "metadata": {},
   "outputs": [],
   "source": [
    "sr.to_csv('Data/apple_article_1_20221015_list_sentences.csv')"
   ]
  },
  {
   "cell_type": "code",
   "execution_count": null,
   "metadata": {},
   "outputs": [],
   "source": []
  }
 ],
 "metadata": {
  "kernelspec": {
   "display_name": "Python 3",
   "language": "python",
   "name": "python3"
  },
  "language_info": {
   "codemirror_mode": {
    "name": "ipython",
    "version": 3
   },
   "file_extension": ".py",
   "mimetype": "text/x-python",
   "name": "python",
   "nbconvert_exporter": "python",
   "pygments_lexer": "ipython3",
   "version": "3.10.2 (tags/v3.10.2:a58ebcc, Jan 17 2022, 14:12:15) [MSC v.1929 64 bit (AMD64)]"
  },
  "orig_nbformat": 4,
  "vscode": {
   "interpreter": {
    "hash": "81d536456136b28090129ce82e5cf6b99608f7de5a5978a52bb6558aff09a7d4"
   }
  }
 },
 "nbformat": 4,
 "nbformat_minor": 2
}
